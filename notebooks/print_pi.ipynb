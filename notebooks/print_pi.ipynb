{
 "cells": [
  {
   "cell_type": "code",
   "execution_count": 1,
   "metadata": {},
   "outputs": [
    {
     "name": "stdout",
     "output_type": "stream",
     "text": [
      "3.141592653589793\n"
     ]
    }
   ],
   "source": [
    "import numpy as np\n",
    "\n",
    "print(np.pi)"
   ]
  },
  {
   "cell_type": "code",
   "execution_count": 5,
   "metadata": {},
   "outputs": [
    {
     "name": "stdout",
     "output_type": "stream",
     "text": [
      "/bin/bash: pyenv: command not found\r\n"
     ]
    }
   ],
   "source": [
    "import os\n",
    "os.getcwd()\n",
    "!pyenv versions"
   ]
  },
  {
   "cell_type": "code",
   "execution_count": 2,
   "metadata": {},
   "outputs": [
    {
     "name": "stdout",
     "output_type": "stream",
     "text": [
      "# packages in environment at /home/vagrant/.pyenv/versions/anaconda3-2020.07:\r\n",
      "#\r\n",
      "# Name                    Version                   Build  Channel\r\n",
      "anaconda                  2020.07                  py38_0  \r\n",
      "anaconda-client           1.7.2                    py38_0  \r\n",
      "anaconda-navigator        1.9.12                   py38_0  \r\n",
      "anaconda-project          0.8.4                      py_0  \r\n"
     ]
    }
   ],
   "source": [
    "!conda list anaconda"
   ]
  },
  {
   "cell_type": "code",
   "execution_count": 2,
   "metadata": {},
   "outputs": [
    {
     "name": "stdout",
     "output_type": "stream",
     "text": [
      "/bin/bash: conda: command not found\r\n"
     ]
    }
   ],
   "source": [
    "!conda list"
   ]
  },
  {
   "cell_type": "code",
   "execution_count": 3,
   "metadata": {},
   "outputs": [
    {
     "name": "stdout",
     "output_type": "stream",
     "text": [
      "LANG=C.UTF-8\r\n",
      "INVOCATION_ID=33ff3b04c2c6412db28d43fb617a29c9\r\n",
      "KERNEL_LAUNCH_TIMEOUT=40\r\n",
      "USER=vagrant\r\n",
      "PAGER=cat\r\n",
      "MKL_THREADING_LAYER=INTEL\r\n",
      "JPY_PARENT_PID=5571\r\n",
      "PWD=/vagrant/notebooks\r\n",
      "HOME=/home/vagrant\r\n",
      "JOURNAL_STREAM=9:69243\r\n",
      "CLICOLOR=1\r\n",
      "TERM=xterm-color\r\n",
      "SHELL=/bin/bash\r\n",
      "MPLBACKEND=module://ipykernel.pylab.backend_inline\r\n",
      "SHLVL=1\r\n",
      "LOGNAME=vagrant\r\n",
      "PATH=/home/vagrant/.pyenv/versions/anaconda3-2020.07/bin:/usr/local/sbin:/usr/local/bin:/usr/sbin:/usr/bin:/sbin:/bin:/snap/bin\r\n",
      "GIT_PAGER=cat\r\n",
      "_=/usr/bin/env\r\n"
     ]
    }
   ],
   "source": [
    "!env"
   ]
  },
  {
   "cell_type": "code",
   "execution_count": 4,
   "metadata": {},
   "outputs": [
    {
     "name": "stdout",
     "output_type": "stream",
     "text": [
      "\r\n",
      "     active environment : None\r\n",
      "       user config file : /home/vagrant/.condarc\r\n",
      " populated config files : \r\n",
      "          conda version : 4.9.2\r\n",
      "    conda-build version : 3.18.11\r\n",
      "         python version : 3.8.3.final.0\r\n",
      "       virtual packages : __glibc=2.27=0\r\n",
      "                          __unix=0=0\r\n",
      "                          __archspec=1=x86_64\r\n",
      "       base environment : /home/vagrant/.pyenv/versions/anaconda3-2020.07  (writable)\r\n",
      "           channel URLs : https://repo.anaconda.com/pkgs/main/linux-64\r\n",
      "                          https://repo.anaconda.com/pkgs/main/noarch\r\n",
      "                          https://repo.anaconda.com/pkgs/r/linux-64\r\n",
      "                          https://repo.anaconda.com/pkgs/r/noarch\r\n",
      "          package cache : /home/vagrant/.pyenv/versions/anaconda3-2020.07/pkgs\r\n",
      "                          /home/vagrant/.conda/pkgs\r\n",
      "       envs directories : /home/vagrant/.pyenv/versions/anaconda3-2020.07/envs\r\n",
      "                          /home/vagrant/.conda/envs\r\n",
      "               platform : linux-64\r\n",
      "             user-agent : conda/4.9.2 requests/2.24.0 CPython/3.8.3 Linux/4.15.0-130-generic ubuntu/18.04.5 glibc/2.27\r\n",
      "                UID:GID : 1000:1000\r\n",
      "             netrc file : None\r\n",
      "           offline mode : False\r\n",
      "\r\n"
     ]
    }
   ],
   "source": [
    "! conda info"
   ]
  },
  {
   "cell_type": "code",
   "execution_count": null,
   "metadata": {},
   "outputs": [],
   "source": []
  }
 ],
 "metadata": {
  "kernelspec": {
   "display_name": "Python 3",
   "language": "python",
   "name": "python3"
  },
  "language_info": {
   "codemirror_mode": {
    "name": "ipython",
    "version": 3
   },
   "file_extension": ".py",
   "mimetype": "text/x-python",
   "name": "python",
   "nbconvert_exporter": "python",
   "pygments_lexer": "ipython3",
   "version": "3.8.3"
  }
 },
 "nbformat": 4,
 "nbformat_minor": 2
}
